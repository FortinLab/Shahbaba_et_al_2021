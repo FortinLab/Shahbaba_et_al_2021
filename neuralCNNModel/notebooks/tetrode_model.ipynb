{
 "cells": [
  {
   "cell_type": "code",
   "execution_count": 1,
   "metadata": {
    "collapsed": true
   },
   "outputs": [],
   "source": [
    "import numpy as np"
   ]
  },
  {
   "cell_type": "code",
   "execution_count": 2,
   "metadata": {
    "collapsed": true
   },
   "outputs": [],
   "source": [
    "import matplotlib\n",
    "matplotlib.use('Agg')\n",
    "import matplotlib.pyplot as plt\n",
    "%matplotlib inline"
   ]
  },
  {
   "cell_type": "code",
   "execution_count": 3,
   "metadata": {
    "collapsed": true
   },
   "outputs": [],
   "source": [
    "from sklearn.metrics import confusion_matrix\n",
    "import itertools"
   ]
  },
  {
   "cell_type": "code",
   "execution_count": 4,
   "metadata": {
    "collapsed": true
   },
   "outputs": [],
   "source": [
    "def plot_confusion_matrix(cm, classes,\n",
    "                          normalize=False,\n",
    "                          title='Confusion matrix',\n",
    "                          cmap=plt.cm.Blues):\n",
    "    \"\"\"\n",
    "    This function prints and plots the confusion matrix.\n",
    "    Normalization can be applied by setting `normalize=True`.\n",
    "    \"\"\"\n",
    "    if normalize:\n",
    "        cm = cm.astype('float') / cm.sum(axis=1)[:, np.newaxis]\n",
    "        print(\"Normalized confusion matrix\")\n",
    "    else:\n",
    "        print('Confusion matrix, without normalization')\n",
    "\n",
    "    print(cm)\n",
    "\n",
    "    plt.imshow(cm, interpolation='nearest', cmap=cmap)\n",
    "    plt.title(title, fontsize=16)\n",
    "    plt.colorbar()\n",
    "    tick_marks = np.arange(len(classes))\n",
    "    plt.xticks(tick_marks, classes)\n",
    "    plt.yticks(tick_marks, classes)\n",
    "\n",
    "    fmt = '.2f' if normalize else 'd'\n",
    "    thresh = cm.max() / 2.\n",
    "    for i, j in itertools.product(range(cm.shape[0]), range(cm.shape[1])):\n",
    "        plt.text(j, i, format(cm[i, j], fmt),\n",
    "                 horizontalalignment=\"center\",\n",
    "                 color=\"white\" if cm[i, j] > thresh else \"black\", fontsize=14)\n",
    "\n",
    "    plt.tight_layout()\n",
    "    plt.ylabel('True label', fontsize=14)\n",
    "    plt.xlabel('Predicted label', fontsize=14)"
   ]
  },
  {
   "cell_type": "code",
   "execution_count": 5,
   "metadata": {
    "collapsed": false
   },
   "outputs": [
    {
     "name": "stderr",
     "output_type": "stream",
     "text": [
      "Using Theano backend.\n"
     ]
    }
   ],
   "source": [
    "from keras.utils import np_utils"
   ]
  },
  {
   "cell_type": "code",
   "execution_count": 6,
   "metadata": {
    "collapsed": false
   },
   "outputs": [
    {
     "name": "stderr",
     "output_type": "stream",
     "text": [
      "/home/linggel/anaconda2/envs/deeplearning/lib/python2.7/site-packages/sklearn/cross_validation.py:44: DeprecationWarning: This module was deprecated in version 0.18 in favor of the model_selection module into which all the refactored classes and functions are moved. Also note that the interface of the new CV iterators are different from that of this module. This module will be removed in 0.20.\n",
      "  \"This module will be removed in 0.20.\", DeprecationWarning)\n"
     ]
    }
   ],
   "source": [
    "from data_utils import *\n",
    "from tetrode import *"
   ]
  },
  {
   "cell_type": "code",
   "execution_count": 9,
   "metadata": {
    "collapsed": true
   },
   "outputs": [],
   "source": [
    "rat_name = 'mitt'"
   ]
  },
  {
   "cell_type": "code",
   "execution_count": 10,
   "metadata": {
    "collapsed": false
   },
   "outputs": [
    {
     "name": "stdout",
     "output_type": "stream",
     "text": [
      "Current tetrode 12 with 16 neurons/units\n",
      "(207, 1, 17, 25)\n",
      "Current tetrode 13 with 15 neurons/units\n",
      "(207, 1, 16, 25)\n",
      "Current tetrode 14 with 4 neurons/units\n",
      "(207, 1, 5, 25)\n",
      "Current tetrode 15 with 2 neurons/units\n",
      "(207, 1, 3, 25)\n",
      "Current tetrode 16 with 6 neurons/units\n",
      "(207, 1, 7, 25)\n",
      "Current tetrode 17 with 2 neurons/units\n",
      "(207, 1, 3, 25)\n",
      "Current tetrode 18 with 12 neurons/units\n",
      "(207, 1, 13, 25)\n",
      "Current tetrode 19 with 15 neurons/units\n",
      "(207, 1, 16, 25)\n",
      "Current tetrode 20 with 12 neurons/units\n",
      "(207, 1, 13, 25)\n",
      "Current tetrode 22 with 1 neurons/units\n",
      "(207, 1, 2, 25)\n",
      "Current tetrode 23 with 4 neurons/units\n",
      "(207, 1, 5, 25)\n",
      "Current tetrode 3 with 4 neurons/units\n",
      "(207, 1, 5, 25)\n",
      "Current tetrode 7 with 3 neurons/units\n",
      "(207, 1, 4, 25)\n",
      "Current tetrode 8 with 1 neurons/units\n",
      "(207, 1, 2, 25)\n",
      "Current tetrode 9 with 7 neurons/units\n",
      "(207, 1, 8, 25)\n"
     ]
    }
   ],
   "source": [
    "tetrode_data, decoding_target, tetrode_ids, tetrode_units, spike_data_binned, lfp_data_sampled = prepare_data(rat_name)"
   ]
  },
  {
   "cell_type": "code",
   "execution_count": 11,
   "metadata": {
    "collapsed": false
   },
   "outputs": [
    {
     "name": "stdout",
     "output_type": "stream",
     "text": [
      "Current fold validation accuracy: 0.363636358218\n",
      "Current fold validation accuracy: 0.454545454545\n",
      "Current fold validation accuracy: 0.500000010837\n",
      "Current fold validation accuracy: 0.772727283564\n",
      "Current fold validation accuracy: 0.454545459964\n",
      "Current fold validation accuracy: 0.590909101746\n",
      "Current fold validation accuracy: 0.428571417218\n",
      "Current fold validation accuracy: 0.666666686535\n",
      "Current fold validation accuracy: 0.5\n",
      "Current fold validation accuracy: 0.722222208977\n"
     ]
    }
   ],
   "source": [
    "y_true, y_hat = cross_validate(tetrode_data, decoding_target, tetrode_ids, tetrode_units)"
   ]
  },
  {
   "cell_type": "code",
   "execution_count": 12,
   "metadata": {
    "collapsed": false
   },
   "outputs": [
    {
     "name": "stdout",
     "output_type": "stream",
     "text": [
      "0.454106280193\n"
     ]
    }
   ],
   "source": [
    "print(np.mean(y_true.argmax(-1) == y_hat.argmax(-1)))"
   ]
  },
  {
   "cell_type": "code",
   "execution_count": 13,
   "metadata": {
    "collapsed": true
   },
   "outputs": [],
   "source": [
    "matrix = confusion_matrix(y_true.argmax(-1), y_hat.argmax(-1))"
   ]
  },
  {
   "cell_type": "code",
   "execution_count": 14,
   "metadata": {
    "collapsed": false
   },
   "outputs": [
    {
     "name": "stdout",
     "output_type": "stream",
     "text": [
      "Normalized confusion matrix\n",
      "[[ 0.8030303   0.13636364  0.03030303  0.03030303]\n",
      " [ 0.35087719  0.42105263  0.15789474  0.07017544]\n",
      " [ 0.29787234  0.29787234  0.25531915  0.14893617]\n",
      " [ 0.18918919  0.51351351  0.16216216  0.13513514]]\n"
     ]
    },
    {
     "data": {
      "image/png": "[encoded data removed]",
      "text/plain": [
       "<matplotlib.figure.Figure at 0x7fbe78dabb10>"
      ]
     },
     "metadata": {},
     "output_type": "display_data"
    }
   ],
   "source": [
    "fig = plt.figure(figsize=(6, 6))\n",
    "plot_confusion_matrix(matrix, classes=['A', 'B', 'C', 'D'], normalize=True,\n",
    "                      title='Confusion matrix')\n",
    "plt.show()"
   ]
  },
  {
   "cell_type": "code",
   "execution_count": 15,
   "metadata": {
    "collapsed": true
   },
   "outputs": [],
   "source": [
    "model = build_tetrode_model(tetrode_ids, tetrode_units)"
   ]
  },
  {
   "cell_type": "code",
   "execution_count": 16,
   "metadata": {
    "collapsed": true
   },
   "outputs": [],
   "source": [
    "hist = model.fit(tetrode_data, decoding_target, nb_epoch=100, batch_size=20, \n",
    "                 verbose=0, validation_split=0.1, shuffle=True)"
   ]
  },
  {
   "cell_type": "code",
   "execution_count": 17,
   "metadata": {
    "collapsed": false
   },
   "outputs": [
    {
     "data": {
      "image/png": "[encoded data removed]",
      "text/plain": [
       "<matplotlib.figure.Figure at 0x7fbe703f4d90>"
      ]
     },
     "metadata": {},
     "output_type": "display_data"
    }
   ],
   "source": [
    "fig = plt.figure(figsize=(8, 6))\n",
    "plt.plot(hist.history['acc'], label='Train')\n",
    "plt.plot(hist.history['val_acc'], label='Test')\n",
    "plt.legend()\n",
    "plt.show()"
   ]
  },
  {
   "cell_type": "code",
   "execution_count": 18,
   "metadata": {
    "collapsed": true
   },
   "outputs": [],
   "source": [
    "from helper import extract_latent"
   ]
  },
  {
   "cell_type": "code",
   "execution_count": 19,
   "metadata": {
    "collapsed": true
   },
   "outputs": [],
   "source": [
    "intermediate_layer_model = Model(input=model.input,\n",
    "                                 output=model.get_layer(model.layers[-3].name).output)"
   ]
  },
  {
   "cell_type": "code",
   "execution_count": 20,
   "metadata": {
    "collapsed": true
   },
   "outputs": [],
   "source": [
    "all_lower = extract_latent(intermediate_layer_model, spike_data_binned, lfp_data_sampled,\n",
    "                          tetrode_ids, tetrode_units, 25, 20)"
   ]
  },
  {
   "cell_type": "code",
   "execution_count": 21,
   "metadata": {
    "collapsed": false
   },
   "outputs": [
    {
     "name": "stdout",
     "output_type": "stream",
     "text": [
      "(207, 18, 10)\n"
     ]
    }
   ],
   "source": [
    "print(all_lower.shape)"
   ]
  },
  {
   "cell_type": "code",
   "execution_count": 22,
   "metadata": {
    "collapsed": false
   },
   "outputs": [],
   "source": [
    "for i in range(10):\n",
    "    model = build_tetrode_model(tetrode_ids, tetrode_units)\n",
    "    hist = model.fit(tetrode_data, decoding_target, nb_epoch=100, batch_size=20, verbose=0, validation_split=0.1, shuffle=True)\n",
    "    intermediate_layer_model = Model(input=model.input, output=model.get_layer(model.layers[-3].name).output)\n",
    "    all_lower = extract_latent(intermediate_layer_model, spike_data_binned, lfp_data_sampled, tetrode_ids, tetrode_units, 25, 20)\n",
    "    np.save('{name}_latent_{index}.npy'.format(name=rat_name, index=i), all_lower)"
   ]
  },
  {
   "cell_type": "code",
   "execution_count": null,
   "metadata": {
    "collapsed": true
   },
   "outputs": [],
   "source": []
  }
 ],
 "metadata": {
  "anaconda-cloud": {},
  "kernelspec": {
   "display_name": "Python [deeplearning]",
   "language": "python",
   "name": "Python [deeplearning]"
  },
  "language_info": {
   "codemirror_mode": {
    "name": "ipython",
    "version": 2
   },
   "file_extension": ".py",
   "mimetype": "text/x-python",
   "name": "python",
   "nbconvert_exporter": "python",
   "pygments_lexer": "ipython2",
   "version": "2.7.12"
  }
 },
 "nbformat": 4,
 "nbformat_minor": 0
}
